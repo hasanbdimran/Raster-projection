{
 "cells": [
  {
   "cell_type": "code",
   "execution_count": 1,
   "id": "d89c492f",
   "metadata": {},
   "outputs": [],
   "source": [
    "import numpy as np\n",
    "import rasterio\n",
    "from rasterio.warp import calculate_default_transform, reproject, Resampling\n",
    "import os "
   ]
  },
  {
   "cell_type": "code",
   "execution_count": 2,
   "id": "e29c7ca2",
   "metadata": {},
   "outputs": [],
   "source": [
    "dst_crs = 'EPSG:32645'"
   ]
  },
  {
   "cell_type": "code",
   "execution_count": 3,
   "id": "7eb58f34",
   "metadata": {},
   "outputs": [],
   "source": [
    "bin_folder = r'/Users/ihasan/Downloads/Baki sir/downloadedImage/L1T1_1973'\n",
    "raster_name = \"LM01_148042_19721211.tif\"\n",
    "raster_address = os.path.join(bin_folder, raster_name)"
   ]
  },
  {
   "cell_type": "code",
   "execution_count": 4,
   "id": "28e1e4be",
   "metadata": {},
   "outputs": [],
   "source": [
    "src =  rasterio.open(raster_address)"
   ]
  },
  {
   "cell_type": "code",
   "execution_count": 5,
   "id": "b6662983",
   "metadata": {},
   "outputs": [
    {
     "data": {
      "text/plain": [
       "CRS.from_epsg(32646)"
      ]
     },
     "execution_count": 5,
     "metadata": {},
     "output_type": "execute_result"
    }
   ],
   "source": [
    "src.crs"
   ]
  },
  {
   "cell_type": "code",
   "execution_count": 6,
   "id": "a4d85d00",
   "metadata": {},
   "outputs": [],
   "source": [
    "transform, width, height = calculate_default_transform(\n",
    "    src.crs, dst_crs, src.width, src.height, *src.bounds)\n",
    "kwargs = src.meta.copy()\n",
    "kwargs.update({\n",
    "    'crs': dst_crs,\n",
    "    'transform': transform,\n",
    "    'width': width,\n",
    "    'height': height,\n",
    "    'nodata': np.nan\n",
    "})"
   ]
  },
  {
   "cell_type": "code",
   "execution_count": 7,
   "id": "b6c6a4e5",
   "metadata": {},
   "outputs": [],
   "source": [
    "out_fp = r\"/Users/ihasan/Downloads/Baki sir/downloadedImage/L1T1_1973/LM01_148042_19721211_prj.tif\""
   ]
  },
  {
   "cell_type": "code",
   "execution_count": 8,
   "id": "b190713a",
   "metadata": {},
   "outputs": [],
   "source": [
    "with rasterio.open(out_fp, 'w', **kwargs) as dst:\n",
    "    for i in range(1, src.count + 1):\n",
    "        reproject(\n",
    "            source=rasterio.band(src, i),\n",
    "            destination=rasterio.band(dst, i),\n",
    "            src_transform=src.transform,\n",
    "            src_crs=src.crs,\n",
    "            dst_transform=transform,\n",
    "            dst_crs=dst_crs,\n",
    "            resampling=Resampling.nearest)"
   ]
  },
  {
   "cell_type": "code",
   "execution_count": 9,
   "id": "1d74e25c",
   "metadata": {},
   "outputs": [
    {
     "data": {
      "text/plain": [
       "(None, None, None, None, None, None)"
      ]
     },
     "execution_count": 9,
     "metadata": {},
     "output_type": "execute_result"
    }
   ],
   "source": [
    "src.nodatavals"
   ]
  },
  {
   "cell_type": "code",
   "execution_count": 18,
   "id": "3ebd657e",
   "metadata": {},
   "outputs": [
    {
     "data": {
      "text/plain": [
       "{'driver': 'GTiff',\n",
       " 'dtype': 'float32',\n",
       " 'nodata': None,\n",
       " 'width': 4131,\n",
       " 'height': 9795,\n",
       " 'count': 6,\n",
       " 'crs': 'EPSG:32645',\n",
       " 'transform': Affine(29.987969166192922, 0.0, 714125.9029617805,\n",
       "        0.0, -29.987969166192922, 2900405.518787567)}"
      ]
     },
     "execution_count": 18,
     "metadata": {},
     "output_type": "execute_result"
    }
   ],
   "source": [
    "kwargs"
   ]
  },
  {
   "cell_type": "code",
   "execution_count": null,
   "id": "2e5ce7e7",
   "metadata": {},
   "outputs": [],
   "source": []
  }
 ],
 "metadata": {
  "kernelspec": {
   "display_name": "Python 3 (ipykernel)",
   "language": "python",
   "name": "python3"
  },
  "language_info": {
   "codemirror_mode": {
    "name": "ipython",
    "version": 3
   },
   "file_extension": ".py",
   "mimetype": "text/x-python",
   "name": "python",
   "nbconvert_exporter": "python",
   "pygments_lexer": "ipython3",
   "version": "3.9.12"
  }
 },
 "nbformat": 4,
 "nbformat_minor": 5
}
